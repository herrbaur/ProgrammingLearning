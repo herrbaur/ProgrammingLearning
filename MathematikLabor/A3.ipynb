{
 "cells": [
  {
   "cell_type": "code",
   "execution_count": 1,
   "metadata": {},
   "outputs": [],
   "source": [
    "from mpmath import *\n",
    "from sympy import *\n",
    "from sympy.interactive import printing\n",
    "import matplotlib.pyplot as plt\n",
    "printing.init_printing(use_latex=True)\n",
    "mp.dps = 15; mp.pretty = True\n",
    "from sympy import sieve\n",
    "import numpy as np"
   ]
  },
  {
   "cell_type": "markdown",
   "metadata": {},
   "source": [
    "<br>\n",
    "\n",
    "\n",
    "\n",
    "\n",
    "# Aufgabe 1"
   ]
  },
  {
   "attachments": {
    "blatt3.png": {
     "image/png": "[encoded data removed]"
    }
   },
   "cell_type": "markdown",
   "metadata": {},
   "source": [
    "<br>\n",
    "\n",
    "\n",
    "\n",
    "\n",
    "<div style=\"text-align: justify\">Zeichnen Sie eine Hauswand mit der Breite 10 und der Höhe 6. Die Ecken der Hauswand sollen dabei in den vier Punkten $P_{1}(0, 0) , \\,\\,P_{2}(10, 0),\\,\\, P_{3}(10, 6) \\,\\,\\,und\\,\\,\\, {    }P_{4}(0, 6)$ liegen. Auf dieser Hauswand befinden sich sechs quadratische Fenster, deren Höhe und Breite jeweils 2 ist. Der Abstand zwischen den Fenstern ist horizontal gleich 1 und vertikal 2/3. Zeichnen Sie die sechs Fenster auf die Hauswand, so wie unten abgebildet. Beachten Sie dabei, dass die Ecken der Hauswand und der Fenster später noch transformiert werden. Am einfachsten wird es daher sein, die Ecken als Paare $[0,0],...$ usw. in einer Liste abzulegen, damit sie später weiter bearbeitet werden können. Das Zeichnen können Sie relativ einfach mit\n",
    "dem plt.plot–Befehl durchführen, so wie Sie das von dem Streckenzug des zweiten Aufgabenblatts schon kennen.</div>\n",
    "\n",
    "\n",
    "\n",
    "<br>\n",
    "\n",
    "\n",
    "\n",
    "![blatt3.png](attachment:blatt3.png)\n",
    "\n",
    "\n",
    "\n",
    "<br>\n"
   ]
  },
  {
   "cell_type": "code",
   "execution_count": 2,
   "metadata": {},
   "outputs": [],
   "source": [
    "#Hauswand_Ecken_Punkte\n",
    "\n",
    "Wand = [[0,0], [10,0], [10,6], [0,6],[0,0]]\n",
    "\n",
    "\n",
    "#Fenster_Ecken_Punkte\n",
    "\n",
    "F_1= [[1,(2/3)], [3,(2/3)], [3,(2/3)+2], [1,(2/3)+2],[1,(2/3)]]\n",
    "\n",
    "F_2= [[4,(2/3)], [6,(2/3)], [6,(2/3)+2], [4,(2/3)+2],[4,(2/3)]]\n",
    "\n",
    "F_3= [[7,(2/3)], [9,(2/3)], [9,(2/3)+2], [7,(2/3)+2],[7,(2/3)]]\n",
    "\n",
    "F_4= [[1,(2/3)*2+2], [3,(2/3)*2+2], [3,((2/3)+2)*2], [1,((2/3)+2)*2],[1,(2/3)*2+2]]\n",
    "\n",
    "F_5= [[4,(2/3)*2+2], [6,(2/3)*2+2], [6,((2/3)+2)*2], [4,((2/3)+2)*2],[4,(2/3)*2+2]]\n",
    "\n",
    "F_6= [[7,(2/3)*2+2], [9,(2/3)*2+2], [9,((2/3)+2)*2], [7,((2/3)+2)*2],[7,(2/3)*2+2]]\n"
   ]
  },
  {
   "cell_type": "code",
   "execution_count": 3,
   "metadata": {},
   "outputs": [
    {
     "data": {
      "text/plain": [
       "[<matplotlib.lines.Line2D at 0x2809ab23f40>]"
      ]
     },
     "execution_count": 3,
     "metadata": {},
     "output_type": "execute_result"
    },
    {
     "data": {
      "image/png": "[encoded data removed]",
      "text/plain": [
       "<Figure size 432x288 with 1 Axes>"
      ]
     },
     "metadata": {
      "needs_background": "light"
     },
     "output_type": "display_data"
    }
   ],
   "source": [
    "%matplotlib inline\n",
    "\n",
    "#Plots\n",
    "\n",
    "plt.plot([l[0] for l in Wand], [l[1] for l in Wand], color='b') #Wand\n",
    "plt.plot([l[0] for l in F_1], [l[1] for l in F_1], color='b')   #Fenster_1\n",
    "plt.plot([l[0] for l in F_2], [l[1] for l in F_2], color='b')   #Fenster_2\n",
    "plt.plot([l[0] for l in F_3], [l[1] for l in F_3], color='b')   #Fenster_3\n",
    "plt.plot([l[0] for l in F_4], [l[1] for l in F_4], color='b')   #Fenster_4\n",
    "plt.plot([l[0] for l in F_5], [l[1] for l in F_5], color='b')   #Fenster_5\n",
    "plt.plot([l[0] for l in F_6], [l[1] for l in F_6], color='b')   #Fenster_6"
   ]
  },
  {
   "cell_type": "markdown",
   "metadata": {},
   "source": [
    "<br>\n",
    "\n",
    "\n",
    "\n",
    "\n",
    "# Aufgabe 2"
   ]
  },
  {
   "cell_type": "markdown",
   "metadata": {},
   "source": [
    "<br>\n",
    "\n",
    "\n",
    "\n",
    "\n",
    "Für manche Berechnungen stellt man Punkte wie in Aufgabe 1 mit sogenannten homogenen Koordinaten dar, d.h. aus einem Punkt P(x,y) wird ein Spaltenvektor der Länge drei\n",
    "\n",
    "\n",
    "$$\\begin{bmatrix} x \\\\  y\\\\ 1 \\end{bmatrix}$$\n",
    "\n",
    "\n",
    "bei dem die dritte Koordinate fest auf 1 gesetzt wird. \n",
    "\n",
    "<br>\n",
    "    \n",
    "**Schreiben Sie eine Python-Funktion**, die Punkte, so wie Sie sie für die Ecken in Aufgabe 1 verwendet haben, in Spaltenvektoren mit homogenen Koordinaten verwandelt (**Hinweis: benutzen Sie den Befehl \"Matrix\" zur Erzeugung eine Matrix von Spaltenvektoren. Jeder Spaltenvektor entspricht einem Punkt**).\n",
    "\n",
    "#### Ein Beispiel:\n",
    "Wenn die Eingabe dieser Python-Funktion diese Liste von Punkten $[[0,0],[5,1],[9,2]]$ ist, soll ihre Ausgabe diese Matrix von Spaltenvektoren\n",
    "<br>\n",
    "\n",
    "$$\\begin{bmatrix} 0 & 5 & 9 \\\\ 0 & 1 & 2 \\\\ 1 & 1 & 1 \\end{bmatrix}$$ sein.\n",
    "\n",
    "#### Eklärung:\n",
    "Vom Mathematischen ist dabei zu beachten, dass jedes Vielfache eines solchen Vektors den gleichen Punkt darstellt. Die\n",
    "Vektoren\n",
    "\n",
    "\n",
    "$$\\begin{bmatrix} 1 \\\\  1\\\\ 1 \\end{bmatrix} \\,\\,\\,\\,\\,\\,und\\,\\,\\,\\,\\,\\, \\begin{bmatrix} 4 \\\\  4\\\\ 4 \\end{bmatrix}$$\n",
    "\n",
    "\n",
    "beschreiben also z.B. den gleichen Punkt. Die „normalen“ (also kartesischen) Koordinaten eines solchen Punktes P ergeben sich, indem man die homogenen Koordinaten\n",
    "$$\\begin{bmatrix} x \\\\  y\\\\ z \\end{bmatrix}$$\n",
    "\n",
    "\n",
    "zu P(x/z, y/z) umrechnet. Die beiden obigen Vektoren repräsentieren also beide den Punkt P(1, 1). (**Homogene Koordinaten wurden im Skript im Abschnitt 6.4.7 eingeführt und im Zusammenhang mit der Translation im Abschnitt 6.4.6 verwendet.**)\n"
   ]
  },
  {
   "cell_type": "code",
   "execution_count": 4,
   "metadata": {},
   "outputs": [
    {
     "data": {
      "text/latex": [
       "$\\displaystyle \\left[\\begin{matrix}1 & 3 & 3 & 1 & 1\\\\0.666666666666667 & 0.666666666666667 & 2.66666666666667 & 2.66666666666667 & 0.666666666666667\\\\1 & 1 & 1 & 1 & 1\\end{matrix}\\right]$"
      ],
      "text/plain": [
       "⎡        1                  3                 3                 1             \n",
       "⎢                                                                             \n",
       "⎢0.666666666666667  0.666666666666667  2.66666666666667  2.66666666666667  0.6\n",
       "⎢                                                                             \n",
       "⎣        1                  1                 1                 1             \n",
       "\n",
       "     1        ⎤\n",
       "              ⎥\n",
       "66666666666667⎥\n",
       "              ⎥\n",
       "     1        ⎦"
      ]
     },
     "execution_count": 4,
     "metadata": {},
     "output_type": "execute_result"
    }
   ],
   "source": [
    "def spaltenvektoren(Punkten):\n",
    "    M = Matrix(Punkten)\n",
    "    M = M.T\n",
    "    return M.row_insert(2, Matrix([[1,1,1,1,1]]))\n",
    "\n",
    "spaltenvektoren(F_1)"
   ]
  },
  {
   "cell_type": "markdown",
   "metadata": {},
   "source": [
    "<br>\n",
    "\n",
    "\n",
    "\n",
    "\n",
    "# Aufgabe 3"
   ]
  },
  {
   "cell_type": "markdown",
   "metadata": {},
   "source": [
    "<br>\n",
    "\n",
    "\n",
    "\n",
    "\n",
    "Schreiben Sie eine **Python-Funktion**, die eine Matrix von Spaltenvektoren mit homogenen Koordinaten wieder in Punkte mit kartesischen Koordinaten zurück verwandelt.\n",
    "\n",
    "#### Ein Beispiel:\n",
    "Wenn die Eingabe dieser Python-Funktion diese Matrix von Spaltenvektoren\n",
    "<br>\n",
    "\n",
    "$$\\begin{bmatrix} 0 & 5 & 9 \\\\ 0 & 1 & 6 \\\\ 2 & 1 & 3 \\end{bmatrix}$$ ist, soll ihre Ausgabe diese Liste von Punkten $[[0,0],[5,1],[3,2]]$ sein."
   ]
  },
  {
   "cell_type": "code",
   "execution_count": 5,
   "metadata": {},
   "outputs": [
    {
     "name": "stdout",
     "output_type": "stream",
     "text": [
      "[[1, 0.666666666666667], [3, 0.666666666666667], [3, 2.66666666666667], [1, 2.66666666666667], [1, 0.666666666666667]]\n"
     ]
    }
   ],
   "source": [
    "def kartesicheKoordinaten(Mat):\n",
    "    rueckgabeListe = []\n",
    "    zwischenListe = []\n",
    "    stellenZaehler = 0\n",
    "    Mat = Mat.T\n",
    "    \n",
    "    for x in range(int(len(Mat)/3)):\n",
    "        for n in range(2):\n",
    "            zwischenListe.append(Mat[stellenZaehler]/Mat[2+(x*3)])\n",
    "            stellenZaehler += 1\n",
    "        rueckgabeListe.append(zwischenListe)\n",
    "        zwischenListe = []\n",
    "        stellenZaehler += 1\n",
    "        \n",
    "    return rueckgabeListe\n",
    "\n",
    "print(kartesicheKoordinaten(spaltenvektoren(F_1)))"
   ]
  },
  {
   "cell_type": "markdown",
   "metadata": {},
   "source": [
    "<br>\n",
    "\n",
    "\n",
    "\n",
    "\n",
    "# Aufgabe 4"
   ]
  },
  {
   "cell_type": "markdown",
   "metadata": {},
   "source": [
    "<div style=\"text-align: justify\">Ein Vorteil der homogenen Koordinaten liegt darin, dass sich viele Berechnungen damit sehr einfach durchführen lassen. Wir zeichnen jetzt z.B. die Hauswand mit den Fenstern aus Aufgabe 1 perspektivisch. Dazu werden allen Ecken mit Hilfe der Python-Funktion aus Aufgabe 2 in homogene Koordinaten umgewandelt. Anschließend multiplizieren Sie die so erhaltenen Vektoren mit der folgenden Matrix A:<div>\n",
    "\n",
    "\n",
    "$$\\begin{bmatrix} 18 & 0 & 0 \\\\ 3 & 20 & 0 \\\\ 1 & 0 & 20 \\end{bmatrix}$$\n",
    "\n",
    "\n",
    "Abschließend wandeln Sie die homogenen Koordinaten wieder mit Hilfe der Python-Funktion aus Aufgabe 3 in kartesische Koordinaten um und zeichnen die transformierte Hauswand.\n",
    "\n",
    "\n",
    "Ein Tipp:\n",
    "* A=Matrix([[18, 0, 0], [3, 20, 0], [1, 0, 20]])"
   ]
  },
  {
   "cell_type": "code",
   "execution_count": 6,
   "metadata": {},
   "outputs": [
    {
     "data": {
      "text/plain": [
       "[<matplotlib.lines.Line2D at 0x2809c490b80>]"
      ]
     },
     "execution_count": 6,
     "metadata": {},
     "output_type": "execute_result"
    },
    {
     "data": {
      "image/png": "[encoded data removed]",
      "text/plain": [
       "<Figure size 432x288 with 1 Axes>"
      ]
     },
     "metadata": {
      "needs_background": "light"
     },
     "output_type": "display_data"
    }
   ],
   "source": [
    "def umwandlung(Punkte):\n",
    "    A = Matrix([[18, 0, 0], [3, 20, 0], [1, 0, 20]])\n",
    "    neueMatrix = A * spaltenvektoren(Punkte)\n",
    "    neueMatrix = kartesicheKoordinaten(neueMatrix)\n",
    "    return neueMatrix\n",
    "\n",
    "plt.plot([l[0] for l in umwandlung(Wand)], [l[1] for l in umwandlung(Wand)], color='b') #Wand\n",
    "plt.plot([l[0] for l in umwandlung(F_1)], [l[1] for l in umwandlung(F_1)], color='b')   #Fenster_1\n",
    "plt.plot([l[0] for l in umwandlung(F_2)], [l[1] for l in umwandlung(F_2)], color='b')   #Fenster_2\n",
    "plt.plot([l[0] for l in umwandlung(F_3)], [l[1] for l in umwandlung(F_3)], color='b')   #Fenster_3\n",
    "plt.plot([l[0] for l in umwandlung(F_4)], [l[1] for l in umwandlung(F_4)], color='b')   #Fenster_4\n",
    "plt.plot([l[0] for l in umwandlung(F_5)], [l[1] for l in umwandlung(F_5)], color='b')   #Fenster_5\n",
    "plt.plot([l[0] for l in umwandlung(F_6)], [l[1] for l in umwandlung(F_6)], color='b')   #Fenster_6\n",
    "    "
   ]
  },
  {
   "cell_type": "markdown",
   "metadata": {},
   "source": [
    "<br>\n",
    "\n",
    "\n",
    "\n",
    "\n",
    "# Aufgabe 5"
   ]
  },
  {
   "attachments": {
    "matlabor.png": {
     "image/png": "[encoded data removed]"
    }
   },
   "cell_type": "markdown",
   "metadata": {},
   "source": [
    "<br>\n",
    "\n",
    "\n",
    "Im Folgenden werden wir eine Projektionsabbildung durch eine Matrix beschreiben. In Aufgabe 4 hatten wir ja bereits eine Matrix A vorgegeben und gesehen, dass diese eine perspektivische Projektion darstellt. In dieser Aufgabe bearbeiten wir die umgekehrte Aufgabenstellung.\n",
    "\n",
    "<br>\n",
    "<div style=\"text-align: justify\">Stellen Sie sich dazu vor, Sie benutzen auf Ihrem Smartphone eine Scannerapp, um ein DIN A4 Dokument zu scannen. Bei Fotographieren ist das Dokument fast immer verzerrt. Wir suchen nun eine Abbildung, die die Verzerrung rückgängig macht und so das korrekte DIN A4 Dokument möglichst genau rekonstruiert:<div>\n",
    "\n",
    "![matlabor.png](attachment:matlabor.png)\n",
    "\n",
    "\n",
    "\n",
    "<div style=\"text-align: justify\">Wenn diese Verzerrung nur durch die Perspektive der Fotographie zustande kam, so lässt sich die Verzerrung durch eine lineare Abbildung beheben. Durch die Vorgabe von vier Punkten für das ursprüngliche Bild sowie weiteren vier Punkten, auf die die „Original“–Punkte abgebildet werden, ist so eine lineare Abbildung in einer Ebene eindeutig definiert. Es genügt also, eine\n",
    "Abbildungsmatrix für die Transformation der vier Ecken aufzustellen. Diese kann dann auf jeden Pixel des Bildes angewendet werden.<div>\n",
    "\n",
    "<br>\n",
    "\n",
    "**Wichtig**: Implementieren Sie bitte die folgenden Teilaufgaben so, dass man diese nicht nur mit den nachfolgend genannten Beispielpunkten, sondern zum Ausprobieren auch mit anderen Punkten ausführen kann. Diese sollten also anfangs einmal gesetzt werden, alle weiteren Ergebnisse bzw. Teilaufgaben müssen dann direkt oder indirekt davon abhängen (so dass also nicht etwa jedesmal händisch Zwischenergebnisse angepasst werden müssen).\n",
    "\n",
    "\n",
    "\n",
    "<br>\n"
   ]
  },
  {
   "cell_type": "markdown",
   "metadata": {},
   "source": [
    "a) Zeichnen Sie zwei Vierecke mit den vier Eckpunkten\n",
    "\n",
    "$$P_{1}(0.1, 0.1),\\,\\,\\,\\, P_{2}(0.9, 0.1),\\,\\,\\,\\, P_{3}(0.7, 0.9),\\,\\,\\,\\, P_{4}(0.3, 0.9)$$\n",
    "<br>\n",
    "bzw.\n",
    "<br>\n",
    "$$Q_{1}(0.2, 0.15),\\,\\,\\,\\, Q_{2}(0.8, 0.15),\\,\\,\\,\\, Q_{3}(0.8, 0.85),\\,\\,\\,\\, Q_{4}(0.2, 0.85) .$$\n",
    "\n",
    "<br>\n",
    "\n",
    "Verwenden Sie für das Viereck mit den P–Ecken die Farbe **rot** und für das Viereck mit\n",
    "den Q–Ecken die Farbe **blau**."
   ]
  },
  {
   "cell_type": "code",
   "execution_count": 7,
   "metadata": {},
   "outputs": [
    {
     "data": {
      "image/png": "[encoded data removed]",
      "text/plain": [
       "<Figure size 432x288 with 1 Axes>"
      ]
     },
     "metadata": {
      "needs_background": "light"
     },
     "output_type": "display_data"
    }
   ],
   "source": [
    "p_punkte = [[0.1,0.1],[0.9,0.1],[0.7,0.9],[0.3,0.9],[0.1,0.1] ]\n",
    "q_punkte = [[0.2,0.15],[0.8,0.15],[0.8,0.85],[0.2,0.85],[0.2,0.15] ]\n",
    "\n",
    "def p_ecken(punkte):\n",
    "    plt.plot([l[0] for l in punkte], [l[1] for l in punkte], color='r')   #p_ecken\n",
    "\n",
    "def q_ecken(punkte):\n",
    "    plt.plot([l[0] for l in punkte], [l[1] for l in punkte], color='b')   #q_ecken\n",
    "\n",
    "p_ecken(p_punkte)\n",
    "q_ecken(q_punkte)\n",
    "    "
   ]
  },
  {
   "cell_type": "markdown",
   "metadata": {},
   "source": [
    "<br>\n",
    "\n",
    "\n",
    "\n",
    "b) Transformieren Sie alle Punkte mit Hilfe der Python-Funktion aus Aufgabe 2 in homogene Koordinaten. Die so erhaltene\n",
    "Matrix für die Punkte P1, . . . , P4 bezeichnen wir mit **v** und die Matrix für die Punkte Q1, . . . , Q4 mit **w**.\n"
   ]
  },
  {
   "cell_type": "code",
   "execution_count": 8,
   "metadata": {},
   "outputs": [
    {
     "data": {
      "text/latex": [
       "$\\displaystyle \\left( \\left[\\begin{matrix}0.2 & 0.8 & 0.8 & 0.2 & 0.2\\\\0.15 & 0.15 & 0.85 & 0.85 & 0.15\\\\1 & 1 & 1 & 1 & 1\\end{matrix}\\right], \\  \\left[\\begin{matrix}0.1 & 0.9 & 0.7 & 0.3 & 0.1\\\\0.1 & 0.1 & 0.9 & 0.9 & 0.1\\\\1 & 1 & 1 & 1 & 1\\end{matrix}\\right]\\right)$"
      ],
      "text/plain": [
       "⎛⎡0.2   0.8   0.8   0.2   0.2 ⎤  ⎡0.1  0.9  0.7  0.3  0.1⎤⎞\n",
       "⎜⎢                            ⎥  ⎢                       ⎥⎟\n",
       "⎜⎢0.15  0.15  0.85  0.85  0.15⎥, ⎢0.1  0.1  0.9  0.9  0.1⎥⎟\n",
       "⎜⎢                            ⎥  ⎢                       ⎥⎟\n",
       "⎝⎣ 1     1     1     1     1  ⎦  ⎣ 1    1    1    1    1 ⎦⎠"
      ]
     },
     "execution_count": 8,
     "metadata": {},
     "output_type": "execute_result"
    }
   ],
   "source": [
    "v = spaltenvektoren(p_punkte)\n",
    "\n",
    "w = spaltenvektoren(q_punkte)\n",
    "w,v"
   ]
  },
  {
   "cell_type": "markdown",
   "metadata": {},
   "source": [
    " \n",
    "<br>\n",
    "\n",
    "\n",
    "\n",
    "\n",
    "\n",
    "\n",
    "\n",
    "c) Wir suchen jetzt die (3 × 3)–Matrix A, die $v_{0}$ auf $w_{0}, v_{1}$ auf $w_{1}$ usw. abbildet. Es soll also\n",
    "<br>\n",
    "\n",
    "$$A · v_{i} = m_{i}· w_{i}$$\n",
    "<br>\n",
    "für i = 0, 1, 2, 3 gelten, wobei $m_{0}, · · · , m_{3}$ ∈ R\\{0} frei wählbare Zahlen sind (denn wie in Aufgabe 2 beschrieben stellen alle Vielfachen eines Vektors mit homogenen Koordinaten den gleichen Punkt dar). \n",
    "\n",
    "\n",
    "\n",
    "Wir haben nun neun Unbekannte aus der (3 × 3)–Matrix A <br>\n",
    "\n",
    "$$\\begin{bmatrix} a11 & a21 & a31 \\\\ a12 & a22 & a32 \\\\ a13 & a23 & a33 \\end{bmatrix}$$\n",
    "\n",
    "\n",
    "und ferner die vier schon erwähnten unbekannten Skalare $m_{0}, . . . , m_{3}$, also insgesamt 13 Unbekannte. Die vier Vektoren liefern uns jedoch nur 12 Gleichungen. Also wird die Lösung für die gesuchte Matrix nicht eindeutig sein (**können wir z.B. $m_{0}=1$ wählen**)\n",
    "\n",
    "Stellen Sie die genannten 12 Gleichungen mit dem Befehl \"Eq\" von Sympy-Bibliothek als eine Liste auf und lösen Sie das resultierende Gleichungssystem mit dem Befehl \"solve\". Ferner ist der Befehl \"subs\" sehr hilfreich, wenn Sie die Werte der Matrix A schon berechnet haben. "
   ]
  },
  {
   "cell_type": "code",
   "execution_count": 9,
   "metadata": {},
   "outputs": [
    {
     "data": {
      "text/plain": [
       "[<matplotlib.lines.Line2D at 0x2809c627700>]"
      ]
     },
     "execution_count": 9,
     "metadata": {},
     "output_type": "execute_result"
    },
    {
     "data": {
      "image/png": "[encoded data removed]",
      "text/plain": [
       "<Figure size 432x288 with 1 Axes>"
      ]
     },
     "metadata": {
      "needs_background": "light"
     },
     "output_type": "display_data"
    }
   ],
   "source": [
    "a11, a12, a13, a21, a22, a23, a31, a32, a33 = symbols('a11 a12 a13 a21 a22 a23 a31 a32 a33')\n",
    "m0, m1, m2, m3 = symbols('m0 m1 m2 m3')\n",
    "A = Matrix([[a11, a21, a31], [a12, a22, a32], [a13,a23,a33]])\n",
    "m0 = 1\n",
    "equation = [Eq(A*v[:,0], m0 * w[:,0]),\n",
    "            Eq(A*v[:,1], m1 * w[:,1]),\n",
    "            Eq(A*v[:,2], m2 * w[:,2]),\n",
    "            Eq(A*v[:,3], m3 * w[:,3])]\n",
    "\n",
    "A = A.subs(solve(equation))\n",
    "neueMatrix = A * v\n",
    "neueMatrix = kartesicheKoordinaten(neueMatrix)\n",
    "plt.plot([l[0] for l in neueMatrix], [l[1] for l in neueMatrix], color='r') \n",
    "\n",
    "\n",
    "\n"
   ]
  },
  {
   "cell_type": "code",
   "execution_count": null,
   "metadata": {},
   "outputs": [],
   "source": []
  },
  {
   "attachments": {
    "matlabor.png": {
     "image/png": "[encoded data removed]"
    }
   },
   "cell_type": "markdown",
   "metadata": {},
   "source": [
    "\n",
    "\n",
    "\n",
    "\n",
    "\n",
    "<br>\n",
    "<div style=\"text-align: justify\">d) Jetzt haben Sie mit Hilfe dieser Matrix die Abbildung beschrieben, die das eine Viereck in das andere überführt. Damit können wir jetzt für einen beliebigen weiteren Punkt $P_{4}$ prüfen, auf welchen Punkt $Q_{4}$ er abgebildet wird. Dazu stellen Sie $P_{4}$ wieder mit homogenen Koordinaten dar und multiplizieren diesen Spaltenvektor mit der Matrix A. Aus dem resultierenden Spaltenvektor erzeugen Sie, wie oben beschrieben, wieder den abgebildeten Punkt mit seinen kartesischen Koordinaten durch die Berechnung (x/z, y/z). Wählen Sie als Beispiel $P_{4}(0.6, 0.6)$ und zeichnen Sie ihn in rot ein. Den abgebildeten Punkt $Q_{4}$ färben Sie blau. Zeichnen Sie zusätzlich die beiden Vierecke mit ein:<div>\n",
    "\n",
    "![matlabor.png](attachment:matlabor.png)\n"
   ]
  },
  {
   "cell_type": "code",
   "execution_count": 10,
   "metadata": {},
   "outputs": [
    {
     "data": {
      "image/png": "[encoded data removed]",
      "text/plain": [
       "<Figure size 432x288 with 1 Axes>"
      ]
     },
     "metadata": {
      "needs_background": "light"
     },
     "output_type": "display_data"
    }
   ],
   "source": [
    "p_ecken(p_punkte)\n",
    "q_ecken(q_punkte)\n",
    "\n",
    "p4 = [[0.6,0.6,1]]\n",
    "\n",
    "q4 = A * Matrix(p4).transpose()\n",
    "neueMatrix = kartesicheKoordinaten(q4)\n",
    "plt.scatter(neueMatrix[0][0],neueMatrix[0][1])\n",
    "plt.scatter(p4[0][0], p4[0][1])\n",
    "plt.show()\n"
   ]
  },
  {
   "cell_type": "markdown",
   "metadata": {},
   "source": [
    "\n",
    "\n",
    "\n",
    "\n",
    "<br>\n",
    "\n",
    "\n",
    "<div style=\"text-align: justify\">e) Stellen Sie die Gleichungen der beiden Diagonalen im roten Viereck jeweils mit Stützvektor und Richtungsvektor auf. Verwenden Sie dazu Spaltenvektoren, die hier aber in kartesischen Koordinaten und nicht mit homogenen Koordinaten verwendet werden. Es handelt sich also um Spaltenvektoren mit 2 Koordinaten! Setzen Sie mit Hilfe des Eq–Befehls die beiden Geradengleichungen gleich. Berechnen Sie mit \"solve\" die Lösungen der beiden Gleichungen. Den Schnittpunkt der beiden Diagonalen erhalten wir dann einfach, indem wir eine der beiden Lösungen in die entsprechende Geradengleichung einsetzen.<div>"
   ]
  },
  {
   "cell_type": "code",
   "execution_count": 11,
   "metadata": {},
   "outputs": [
    {
     "data": {
      "text/latex": [
       "$\\displaystyle \\left[\\begin{matrix}0.5\\\\0.633333333333333\\end{matrix}\\right]$"
      ],
      "text/plain": [
       "⎡       0.5       ⎤\n",
       "⎢                 ⎥\n",
       "⎣0.633333333333333⎦"
      ]
     },
     "execution_count": 11,
     "metadata": {},
     "output_type": "execute_result"
    }
   ],
   "source": [
    "# Die vier Eckpunkten für das rote Viereck\n",
    "P = [[0.1, 0.1], [0.9, 0.1], [0.7, 0.9], [0.3, 0.9], [0.1, 0.1]]\n",
    "\n",
    "# Die Berechunungen für das rote Viereck\n",
    "#Stützvektor erster Diagonale \n",
    "SVP1=Matrix(P[0])\n",
    "\n",
    "#Richtungsvektor erster Diagonale \n",
    "RVP1=Matrix(P[2])-Matrix(P[0])\n",
    "\n",
    "#Stützvektor zweiter Diagonale \n",
    "SVP2=Matrix(P[1])\n",
    "\n",
    "#Richtungsvektor zweiter Diagonale \n",
    "RVP2=Matrix(P[3])-Matrix(P[1])\n",
    "\n",
    "# Die Lösungen der beiden Gleichungen\n",
    "t,r = symbols('t r')\n",
    "\n",
    "equations = [Eq(SVP1 + t * RVP1, SVP2 + r * RVP2)]\n",
    "solution = solve(equations)\n",
    "#solution = {r:0.666666666666667, t:0.666666666666667}\n",
    "\n",
    "# Der Schnittpunk\n",
    "\n",
    "SPR = SVP1 + solution[r] * RVP1\n",
    "SPR"
   ]
  },
  {
   "cell_type": "markdown",
   "metadata": {},
   "source": [
    "<br>\n",
    "\n",
    "\n",
    "f) Führen Sie die Berechnung des Schnittpunktes der beiden Diagonalen auch für das blaue\n",
    "Viereck aus."
   ]
  },
  {
   "cell_type": "code",
   "execution_count": 12,
   "metadata": {},
   "outputs": [
    {
     "data": {
      "text/latex": [
       "$\\displaystyle \\left[\\begin{matrix}0.5\\\\0.5\\end{matrix}\\right]$"
      ],
      "text/plain": [
       "⎡0.5⎤\n",
       "⎢   ⎥\n",
       "⎣0.5⎦"
      ]
     },
     "execution_count": 12,
     "metadata": {},
     "output_type": "execute_result"
    }
   ],
   "source": [
    "# Die vier Eckpunkten für das blue Viereck\n",
    "Q = [[0.2, 0.15], [0.8, 0.15], [0.8, 0.85], [0.2, 0.85], [0.2, 0.15]]\n",
    "\n",
    "# Die Bechunungen für das blaue Viereck\n",
    "#Stützvektor erster Diagonale \n",
    "SVQ1=Matrix(Q[0])\n",
    "\n",
    "#Richtungsvektor erster Diagonale \n",
    "RVQ1=Matrix(Q[2])-Matrix(Q[0])\n",
    "\n",
    "#Stützvektor zweiter Diagonale \n",
    "SVQ2=Matrix(Q[1])\n",
    "\n",
    "#Richtungsvektor zweiter Diagonale \n",
    "RVQ2=Matrix(Q[3])-Matrix(Q[1])\n",
    "\n",
    "# Die Lösungen der beiden Gleichungen\n",
    "t,r = symbols('t r')\n",
    "\n",
    "equations = [Eq(SVQ1 + t * RVQ1, SVQ2 + r * RVQ2)]\n",
    "solution = solve(equations)\n",
    "# Der Schnittpunk\n",
    "\n",
    "SQR = SVQ1 + solution[r] * RVQ1\n",
    "SQR "
   ]
  },
  {
   "cell_type": "markdown",
   "metadata": {},
   "source": [
    "\n",
    "\n",
    "\n",
    "<br>\n",
    "\n",
    "\n",
    "\n",
    "g) Die Matrix A beschreibt eine Abbildung, die das eine Viereck in das andere überführt. Sie bildet aber gleichzeitig auch Geraden auf Geraden ab und erhält die sog. „Inzidenz“, d.h. wenn ein Punkt auf einer Geraden liegt, dann liegt auch der abgebildete Punkt auf der abgebildeten Geraden. Überprüfen Sie dies bitte für den folgenden einfachen Fall: Wenn man den Schnittpunkt der beiden Diagonalen des roten Vierecks mit der Matrix A abbildet (wie in der Teilaufgabe d), dann muss das Ergebnis den Schnittpunkt der beiden Diagonalen des blauen Vierecks ergeben!"
   ]
  },
  {
   "cell_type": "code",
   "execution_count": 13,
   "metadata": {},
   "outputs": [
    {
     "data": {
      "image/png": "[encoded data removed]",
      "text/plain": [
       "<Figure size 432x288 with 1 Axes>"
      ]
     },
     "metadata": {
      "needs_background": "light"
     },
     "output_type": "display_data"
    }
   ],
   "source": [
    "Matrix(SPR)\n",
    "SPR = SPR.row_insert(2, Matrix([1]))\n",
    "SPRmatrix = A * Matrix(SPR)\n",
    "neueMatrix = kartesicheKoordinaten(SPRmatrix)\n",
    "plt.scatter(neueMatrix[0][0],neueMatrix[0][1])\n",
    "plt.show()"
   ]
  }
 ],
 "metadata": {
  "kernelspec": {
   "display_name": "Python 3.9.12 ('ML_Baur')",
   "language": "python",
   "name": "python3"
  },
  "language_info": {
   "codemirror_mode": {
    "name": "ipython",
    "version": 3
   },
   "file_extension": ".py",
   "mimetype": "text/x-python",
   "name": "python",
   "nbconvert_exporter": "python",
   "pygments_lexer": "ipython3",
   "version": "3.9.12"
  },
  "vscode": {
   "interpreter": {
    "hash": "bcacf601376a2dad6ce95f5a1cc122bd4e89673ae070f2fd62086f6618019f01"
   }
  }
 },
 "nbformat": 4,
 "nbformat_minor": 2
}
