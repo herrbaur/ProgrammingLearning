{
 "cells": [
  {
   "cell_type": "markdown",
   "metadata": {},
   "source": [
    "\n",
    "<br>\n",
    "\n",
    "# Mathematik-Labor: Aufgabenblatt 2"
   ]
  },
  {
   "cell_type": "code",
   "execution_count": 20,
   "metadata": {},
   "outputs": [],
   "source": [
    "from mpmath import *\n",
    "from sympy import *\n",
    "from sympy.interactive import printing\n",
    "import matplotlib.pyplot as plt\n",
    "printing.init_printing(use_latex=True)\n",
    "mp.dps = 15; mp.pretty = True\n",
    "from sympy import sieve\n",
    "import numpy as np\n",
    "from matplotlib.animation import FuncAnimation"
   ]
  },
  {
   "cell_type": "markdown",
   "metadata": {},
   "source": [
    "\n",
    "\n",
    "\n",
    "<br>\n",
    "\n",
    "\n",
    "\n",
    "\n",
    "<div style=\"text-align: justify\">Im Folgenden betrachten wir Kurven, die über Parameterfunktionen dargestellt werden. Das bedeutet, dass die Kurven durch zwei Funktionen f(t) und g(t) definiert werden. Die zwei Funktionen f und g ordnen jedem Wert für t einen Punkt (f(t), g(t)) zu, d.h. für jeden Wert von t wird f(t) auf der x–Achse und g(t) auf der y–Achse abgetragen. Wir erhalten so eine zweidimensionale Darstellung einer Kurve. Wir werden die Bogenlänge solcher Kurven bestimmen und kompliziertere Kurven erstaunlich einfach darstellen können.</div>\n"
   ]
  },
  {
   "cell_type": "markdown",
   "metadata": {},
   "source": [
    "\n",
    "<br>\n",
    "\n",
    "\n",
    "\n",
    "# Aufgabe 1: Parameterfunktion"
   ]
  },
  {
   "cell_type": "markdown",
   "metadata": {},
   "source": [
    "Betrachten Sie als erstes Beispiel für $f(t)$ und $g(t)$ die Abbildungsvorschriften\n",
    "<br>\n",
    "\n",
    "$$f(t) = t{^3} − 2t \\,\\,\\,\\,\\,\\,und\\,\\,\\,\\,\\,\\,  g(t) = {t^3} − 4t + 1 .$$\n",
    "\n",
    "\n",
    "Plotten Sie die zugehörige Kurve im Bereich −2 ≤ t ≤ 2. Mit dem Befehl (plt.plot) können solche Darstellungen erzeugt werden. "
   ]
  },
  {
   "cell_type": "code",
   "execution_count": 21,
   "metadata": {},
   "outputs": [],
   "source": [
    "def f(t):\n",
    "    return (t**3 - 2*t)\n"
   ]
  },
  {
   "cell_type": "code",
   "execution_count": 22,
   "metadata": {},
   "outputs": [],
   "source": [
    "def g(t):\n",
    "    return (t**3 - 4*t + 1)"
   ]
  },
  {
   "cell_type": "code",
   "execution_count": 23,
   "metadata": {},
   "outputs": [
    {
     "data": {
      "text/plain": [
       "[<matplotlib.lines.Line2D at 0x26c3ef32af0>]"
      ]
     },
     "execution_count": 23,
     "metadata": {},
     "output_type": "execute_result"
    }
   ],
   "source": [
    "t = np.linspace(-2,2,100)\n",
    "#f(t) ist x Komponente\n",
    "#g(t) ist y Komponente\n",
    "plt.plot(f(t), g(t))"
   ]
  },
  {
   "cell_type": "markdown",
   "metadata": {},
   "source": [
    "\n",
    "<br>\n",
    "\n",
    "# Aufgabe 2: Streckenzug"
   ]
  },
  {
   "cell_type": "markdown",
   "metadata": {},
   "source": [
    "<div style=\"text-align: justify\"> Wir nähern jetzt die Paramterfunktion (Kurve) aus der vorherigen Aufgabe durch einen Streckenzug an, wie das in der Informatik oft verwendet wird, z.B. für digital aufbereiteten Straßenkarten. Dazu unterteilen wir für einen bestimmten Abschnitt Intervall a..b in n gleiche Abschnitte (t0, ..., tn). Dann wird der Streckenzug durch die n + 1\n",
    "Punkte</div>\n",
    "<br>\n",
    "\n",
    "$$[f({t_0}), g({t_0})] , [f({t_1}), g({t_1})] , [f({t_2}), g({t_2})] , . . . , [f({t_n}), g({t_n})]$$\n",
    "\n",
    "definiert. \n",
    "<br>\n",
    "\n"
   ]
  },
  {
   "cell_type": "markdown",
   "metadata": {},
   "source": [
    "a) Schreiben Sie eine Python-Funktion, die zu vorgegebenem a, b, n, f und g den Streckenzug und die Kurve plottet.\n",
    "\n",
    "<br>\n",
    "Tipps:\n",
    "<br>\n",
    "\n",
    "* Die n+1 Punkte von (t0, ..., tn) können durch (\"for t in np.linspace(a, b , n+1)\") definiert.\n",
    "\n",
    "* Das Zeichnen eines Streckenzugs kann einfach durch den Befehl plt.plot realisiert werden. \n",
    "\n"
   ]
  },
  {
   "cell_type": "code",
   "execution_count": 24,
   "metadata": {},
   "outputs": [],
   "source": [
    "def p(a, b, n,f,g):\n",
    "    t = np.linspace(a, b, n+1)    \n",
    "    plt.plot(f(t), g(t))\n",
    "    "
   ]
  },
  {
   "cell_type": "markdown",
   "metadata": {},
   "source": [
    "\n",
    "<br>\n",
    "\n",
    "b) Testen Sie Ihre Funktion für das Intervall a = −2, b = 2 und n = 10 mit den Funktionen f(t) und g(t) aus der ersten Aufgabe."
   ]
  },
  {
   "cell_type": "code",
   "execution_count": 25,
   "metadata": {},
   "outputs": [],
   "source": [
    "p(-2, 2, 10, f, g)"
   ]
  },
  {
   "cell_type": "markdown",
   "metadata": {},
   "source": [
    "\n",
    "<br>\n",
    "\n",
    "\n",
    "\n",
    "# Aufgabe 3: Bogenlänge"
   ]
  },
  {
   "cell_type": "markdown",
   "metadata": {},
   "source": [
    "<div style=\"text-align: justify\"> Erweitern Sie die Python-Funktion aus Aufgabe 2, so dass die Länge dieses Streckenzugs bestimmt wird. Verwenden Sie dabei den Satz von Pythagoras, um die Länge der einzelnen Strecken zu berechnen. (Die Python-Funktion soll also wieder zu vorgegebenem a, b, n, f und g arbeiten.) Sie benötigen zur Berechnung der Bogenlänge eine Schleife, die über alle Elemente des Streckenzuges iteriert und jeweils den Abstand von zwei aufeinanderfolgenden Punkten berechnet. Diese Abstände müssen dann noch aufsummiert werden. <div>\n",
    "\n"
   ]
  },
  {
   "cell_type": "code",
   "execution_count": 26,
   "metadata": {},
   "outputs": [],
   "source": [
    "# sqrt(delta x^2 + delta y^2) ist die Bogenlänge\n",
    "# t2-t1 und dann in f(t) für x und in g(t) für y einsetzten\n",
    "def p2(a, b, n, f, g):\n",
    "    t = np.linspace(a, b, n+1)\n",
    "    strecken = 0\n",
    "    i = 0\n",
    "    while i < n:\n",
    "        strecken += sqrt((f(t[i+1])-f(t[i]))**2 +(g(t[i+1])-g(t[i]))**2)\n",
    "        i += 1\n",
    "    return strecken"
   ]
  },
  {
   "cell_type": "markdown",
   "metadata": {},
   "source": [
    "\n",
    "<br>\n",
    "\n",
    "\n",
    "\n",
    "# Aufgabe 4: Testen der Python-Funktion für die Bogenlänge\n"
   ]
  },
  {
   "cell_type": "markdown",
   "metadata": {},
   "source": [
    "<div style=\"text-align: justify\">Verwenden Sie die Python-Funktion aus Aufgabe 3, um einen angenäherten Wert der Bogenlänge für die Kurve aus Aufgabe 1 zu bestimmen. Führen Sie die Berechnung für n = 10, 50 und 100 durch. (Für n = 10 beträgt die Bogenlänge auf 5 Stellen genau 18,171.)</div>"
   ]
  },
  {
   "cell_type": "code",
   "execution_count": 27,
   "metadata": {},
   "outputs": [
    {
     "name": "stdout",
     "output_type": "stream",
     "text": [
      "18.1711476166993\n"
     ]
    }
   ],
   "source": [
    "print(p2(-2, 2, 10, f, g))"
   ]
  },
  {
   "cell_type": "code",
   "execution_count": 28,
   "metadata": {},
   "outputs": [
    {
     "name": "stdout",
     "output_type": "stream",
     "text": [
      "18.4284748641977\n"
     ]
    }
   ],
   "source": [
    "print(p2(-2, 2, 50, f, g))"
   ]
  },
  {
   "cell_type": "code",
   "execution_count": 29,
   "metadata": {},
   "outputs": [
    {
     "name": "stdout",
     "output_type": "stream",
     "text": [
      "18.4350575671962\n"
     ]
    }
   ],
   "source": [
    "print(p2(-2, 2, 100, f, g))"
   ]
  },
  {
   "cell_type": "markdown",
   "metadata": {},
   "source": [
    "\n",
    "<br>\n",
    "\n",
    "\n",
    "\n",
    "# Aufgabe 5: Kreis als Parameterfunktion"
   ]
  },
  {
   "cell_type": "markdown",
   "metadata": {},
   "source": [
    "<div style=\"text-align: justify\"> a) Zeichnen Sie einen dreiviertel Kreis mit Radius 1. Der Kreis soll dabei auf der x–Achse\n",
    "beginnen und im mathematisch positiven Drehsinn (also gegen den Uhrzeigersinn) gehen.\n",
    "Verwenden Sie die Techniken, die Sie in Aufgabe 1 kennen gelernt haben. Die Sinus–\n",
    "und Cosinus–Funktionen (sin, cos) sind natürlich hilfreich. Verwenden Sie die Cosinus–Funktion für die x–Achse.</div>"
   ]
  },
  {
   "cell_type": "code",
   "execution_count": 30,
   "metadata": {},
   "outputs": [],
   "source": [
    "import numpy as np\n",
    "import matplotlib.pyplot as plt\n",
    "\n",
    "\n",
    "radius = 1\n",
    "t = np.linspace(0,(3/2)*np.pi,270)\n",
    "\n",
    "\n",
    "def x(s):\n",
    "    return np.cos(s)*radius\n",
    "\n",
    "def y(s):\n",
    "    return np.sin(s)*radius\n",
    "\n",
    "figure, axes = plt.subplots(1)\n",
    "axes.plot(x(t), y(t))\n",
    "axes.set_aspect(1)\n",
    "plt.title('Einheitskreis')\n",
    "plt.show()"
   ]
  },
  {
   "cell_type": "markdown",
   "metadata": {},
   "source": [
    "<br>\n",
    "\n",
    "b) Bestimmen Sie mit Ihrer Python-Funktion aus Aufgabe 3 die Bogenlänge, um zu sehen, ob die Funktion auch hier funktioniert.\n",
    "**Stimmt das Ergebnis?**"
   ]
  },
  {
   "cell_type": "code",
   "execution_count": 31,
   "metadata": {},
   "outputs": [
    {
     "data": {
      "image/png": "[encoded data removed]",
      "text/latex": [
       "$\\displaystyle 4.71195296672203$"
      ],
      "text/plain": [
       "4.71195296672203"
      ]
     },
     "execution_count": 31,
     "metadata": {},
     "output_type": "execute_result"
    }
   ],
   "source": [
    "p2(0, 3/2*np.pi, 100, x, y)\n",
    "# Ergebnis stimmt\n"
   ]
  },
  {
   "cell_type": "markdown",
   "metadata": {},
   "source": [
    "<br>\n",
    "\n",
    "<div style=\"text-align: justify\"> c) Jetzt soll der dreiviertel Kreis so variiert werden, dass er nicht mehr auf der x–Achse,\n",
    "sondern $30{^◦}$ von der x–Achse entfernt beginnt. Achtung: Lassen Sie das Intervall für\n",
    "die Variable unverändert. Die Veränderung soll durch eine entsprechende Anpassung der\n",
    "Sinus– und Cosinus–Funktion erzielt werden!</div>"
   ]
  },
  {
   "cell_type": "code",
   "execution_count": 32,
   "metadata": {},
   "outputs": [],
   "source": [
    "def cos_30(w):\n",
    "    return np.cos(t+(1/6)*np.pi)\n",
    "\n",
    "def sin_30(w):\n",
    "    return np.sin(t+(1/6)*np.pi)\n",
    "\n",
    "p(0, 3/2*np.pi , 100 , cos_30, sin_30)"
   ]
  },
  {
   "cell_type": "raw",
   "metadata": {},
   "source": [
    "<br>\n",
    "\n",
    "\n",
    "\n",
    "# Aufgabe 6:  Geozentrische Bahn des Planeten Venus"
   ]
  },
  {
   "cell_type": "markdown",
   "metadata": {},
   "source": [
    "In dieser Aufgabe skizzieren Sie die **Bahn des Planeten Venus**. Mit\n",
    "\n",
    "$$f(t)= cos(\\frac{2{\\pi}}{365,25}t)+ a\\,cos(bt)\\,\\,\\,\\,  und \\,\\,\\,\\, g(t)= sin(\\frac{2{\\pi}}{365,25}t)+ a\\,sin(bt)$$\n",
    "<br>\n",
    "\n",
    "<div style=\"text-align: justify\"> kann eine Zykloidenbahn gezeichnet werden, bei der ein Kreis auf einem weiteren Kreis abgewickelt wird. Dies geschieht erneut einfach als Überlagerung von zwei Bewegungen. Wir möchten nun speziell die Bahn der Venus geozentrisch betrachten, d.h. wir überlegen uns, wie sich die Venus um die Erde bewegt. Dabei umkreist die Venus die Sonne in 224,7 Tagen. Mit einer sog. Astronomischen Einheit (abgekürzt AE) bezeichnet man die Entfernung der Erde zur Sonne.\n",
    "Die Venus ist ca. 0,72 AE von der Sonne entfernt. Diese Angaben genügen, um die Werte der Parameter a und b zu bestimmen. Lassen Sie den Parameter t dabei von 0 bis 2920 (= ca. 8 Jahre) laufen</div>\n",
    "\n",
    "<br>\n",
    "\n",
    "Tipps:\n",
    "* a = 0.72\n",
    "* b = 2 * np.pi / 224.7\n",
    "* t = np.linspace(0, 2921, 1000)\n"
   ]
  },
  {
   "cell_type": "code",
   "execution_count": 33,
   "metadata": {},
   "outputs": [],
   "source": [
    "def f(t, a, b):\n",
    "    return np.cos((2*np.pi*t)/365.25) + a * np.cos(b*t) "
   ]
  },
  {
   "cell_type": "code",
   "execution_count": 34,
   "metadata": {},
   "outputs": [],
   "source": [
    "def g(t, a, b):\n",
    "    return np.sin((2*np.pi*t)/365.25) + a * np.sin(b*t) "
   ]
  },
  {
   "cell_type": "code",
   "execution_count": 35,
   "metadata": {},
   "outputs": [],
   "source": [
    "a = 0.72\n",
    "b = 2 * np.pi / 224.7"
   ]
  },
  {
   "cell_type": "code",
   "execution_count": 36,
   "metadata": {},
   "outputs": [
    {
     "data": {
      "text/plain": [
       "[<matplotlib.lines.Line2D at 0x26c3cb181f0>]"
      ]
     },
     "execution_count": 36,
     "metadata": {},
     "output_type": "execute_result"
    }
   ],
   "source": [
    "t = np.linspace(0,2921,1000)\n",
    "\n",
    "#skizzieren Sie die Bahn des Planeten Venus\n",
    "plt.plot(f(t,a,b), g(t,a,b))"
   ]
  },
  {
   "cell_type": "markdown",
   "metadata": {},
   "source": [
    "<br>\n",
    "\n",
    "\n",
    "\n",
    "# Aufgabe 7:  Animation der Planetenbahn\n",
    "\n",
    "\n",
    "\n"
   ]
  },
  {
   "cell_type": "markdown",
   "metadata": {},
   "source": [
    "<div style=\"text-align: justify\"> Verbessern Sie die Darstellung der geozentrischen Bahn der Venus, indem Sie nicht die fertige\n",
    "Bahn zeichnen, sondern die Bewegung des Planeten. Dabei soll aber die Bewegung nicht so\n",
    "dargestellt werden, dass nur ein Punkt „herumsaust“, sondern es sollen zu jedem Zeitpunkt\n",
    "t alle von der Venus bis dahin erreichten Punkte dargestellt werden, also die gesamte Bahn,\n",
    "auf der sich die Venus bis zu dem dargestellten Zeitpunkt bewegt hat. (Tipp: FuncAnimation von dem matplotlib.animation)</div>\n",
    "\n",
    " "
   ]
  },
  {
   "cell_type": "code",
   "execution_count": null,
   "metadata": {},
   "outputs": [],
   "source": []
  },
  {
   "cell_type": "code",
   "execution_count": 37,
   "metadata": {},
   "outputs": [],
   "source": [
    "%matplotlib tk\n",
    "fig, ax = plt.subplots()  \n",
    "xdata, ydata = [], []  \n",
    "ln, = plt.plot([], [], '-')\n",
    "\n",
    "# die Dargestellte Funktion, initialisiert mit Lehren Koordinaten\n",
    "a = 0.72\n",
    "b = 2 * np.pi / 224.7\n",
    "\n",
    "\n",
    "def init():  \n",
    "    ax.set_xlim(-3, 3)  \n",
    "    ax.set_ylim(-3, 3)\n",
    "    ax.spines['left'].set_position('center')\n",
    "    ax.spines['bottom'].set_position('center')\n",
    "    ax.spines['right'].set_color('none')\n",
    "    ax.spines['top'].set_color('none')\n",
    "    return ln,  \n",
    "  \n",
    "def update(frame):\n",
    "    xdata.append(f(frame,a,b))\n",
    "    ydata.append(g(frame,a,b))\n",
    "    ln.set_data(xdata, ydata)  \n",
    "    return ln,  \n",
    "  \n",
    "step = 2  # Schrittweite für y Werte\n",
    "frames = np.arange(0,2921, step) # y Punkte\n",
    "  \n",
    "ani = FuncAnimation(fig, update, frames,init_func=init, interval=1)\n",
    "# interval ist die Aktuallisierungsrate\n",
    "plt.show() "
   ]
  },
  {
   "cell_type": "markdown",
   "metadata": {},
   "source": [
    "<br>\n",
    "\n",
    "\n",
    "\n",
    "# Aufgabe 8: Simultane Darstellung von vier Planetenbahnen\n"
   ]
  },
  {
   "cell_type": "markdown",
   "metadata": {},
   "source": [
    "Die folgende Tabelle zeigt den Abstand von der Sonne und die Umlaufzeiten für die Venus und drei weitere Planeten:\n",
    "\n",
    "\n",
    "\n",
    "| Planet      | Sonnenabstand | Umlaufzeit     |\n",
    "| :---        |    :----:     |          ---:  |\n",
    "| Merkur      | 0,39 AE       | 88,0 Tage      |\n",
    "| Venus       | 0,72 AE       | 224,7 Tage     |\n",
    "| Mars        | 1,52 AE       | 687,0 Tage     |\n",
    "| Jupiter     | 5,20 AE       | 4335,0 Tage    |"
   ]
  },
  {
   "cell_type": "markdown",
   "metadata": {},
   "source": [
    "<div style=\"text-align: justify\">a) Sehen Sie sich die Bahnen der einzelnen Planeten sowie die Sonne an. Lassen Sie den Parameter t dabei von 0 bis 2920 (= ca. 8 Jahre) laufen.</div>"
   ]
  },
  {
   "cell_type": "code",
   "execution_count": 38,
   "metadata": {},
   "outputs": [
    {
     "data": {
      "text/plain": [
       "[<matplotlib.lines.Line2D at 0x26c3cad0760>]"
      ]
     },
     "execution_count": 38,
     "metadata": {},
     "output_type": "execute_result"
    }
   ],
   "source": [
    "#Bahn des Planeten Merkur\n",
    "a_Merkur = 0.39\n",
    "b_Merkur = 2 * np.pi / 88.0\n",
    "t = np.linspace(0,2920,1000)\n",
    "\n",
    "plt.plot(f(t,a,b), g(t,a,b))\n",
    "#TODO implement"
   ]
  },
  {
   "cell_type": "code",
   "execution_count": 39,
   "metadata": {},
   "outputs": [
    {
     "data": {
      "text/plain": [
       "[<matplotlib.lines.Line2D at 0x26c3cad0610>]"
      ]
     },
     "execution_count": 39,
     "metadata": {},
     "output_type": "execute_result"
    }
   ],
   "source": [
    "#Bahn des Planeten Venus\n",
    "a = 0.72\n",
    "b = 2 * np.pi / 224.7\n",
    "t = np.linspace(0,2920,1000)\n",
    "\n",
    "plt.plot(f(t,a,b), g(t,a,b))\n",
    "#TODO implement"
   ]
  },
  {
   "cell_type": "code",
   "execution_count": 40,
   "metadata": {},
   "outputs": [
    {
     "data": {
      "text/plain": [
       "[<matplotlib.lines.Line2D at 0x26c3cb4bc70>]"
      ]
     },
     "execution_count": 40,
     "metadata": {},
     "output_type": "execute_result"
    }
   ],
   "source": [
    "#Bahn des Planeten Mars\n",
    "a_Mars = 1.52\n",
    "b_Mars = 2 * np.pi / 88.0\n",
    "t = np.linspace(0,2920,1000)\n",
    "\n",
    "plt.plot(f(t,a,b), g(t,a,b))\n",
    "#TODO implement"
   ]
  },
  {
   "cell_type": "code",
   "execution_count": 41,
   "metadata": {},
   "outputs": [
    {
     "data": {
      "text/plain": [
       "[<matplotlib.lines.Line2D at 0x26c3ef4d250>]"
      ]
     },
     "execution_count": 41,
     "metadata": {},
     "output_type": "execute_result"
    }
   ],
   "source": [
    "#Bahn des Planeten Jupiter\n",
    "a_Jup = 5.20\n",
    "b_Jup = 2 * np.pi / 4335.0\n",
    "t = np.linspace(0,2920,1000)\n",
    "\n",
    "plt.plot(f(t,a,b), g(t,a,b))\n",
    "#TODO implement"
   ]
  },
  {
   "cell_type": "code",
   "execution_count": 42,
   "metadata": {},
   "outputs": [
    {
     "data": {
      "text/plain": [
       "[<matplotlib.lines.Line2D at 0x26c3cad0fa0>]"
      ]
     },
     "execution_count": 42,
     "metadata": {},
     "output_type": "execute_result"
    }
   ],
   "source": [
    "#die Sonne\n",
    "a = 0\n",
    "b = 2 * np.pi / 25.38\n",
    "t = np.linspace(0,2920,1000)\n",
    "\n",
    "plt.plot(f(t,a,b), g(t,a,b))\n",
    "#TODO implement"
   ]
  },
  {
   "cell_type": "markdown",
   "metadata": {},
   "source": [
    "\n",
    "\n",
    "\n",
    "<br>\n",
    "\n",
    "\n",
    "\n",
    "\n",
    "<div style=\"text-align: justify\"> b) Jetzt sollen Sie die Bewegungen der vier Planeten und der Sonne um die Erde simultan und\n",
    "animiert darstellen. Verwenden Sie dabei ggf. nur eine kürzere Darstellung, z.B. von 0 bis\n",
    "730 (= ca. 2 Jahre), da Sie sonst eventuell Schwierigkeiten mit der Rechenzeit bekommen.</div>\n",
    "\n"
   ]
  },
  {
   "cell_type": "code",
   "execution_count": 43,
   "metadata": {},
   "outputs": [],
   "source": [
    "#TODO implement\n",
    "# xdata ydata für alle anlegen\n",
    "# in update alle xdata ydata für die Planeten einzelen aufrufen\n",
    "%matplotlib tk\n",
    "fig, ax = plt.subplots()  \n",
    "xdata1, ydata1 = [], []\n",
    "xdata2, ydata2 = [], [] \n",
    "xdata3, ydata3 = [], []\n",
    "xdata4, ydata4 = [], []\n",
    "ln1, = plt.plot([], [], '-')\n",
    "ln2, = plt.plot([], [], '-')\n",
    "ln3, = plt.plot([], [], '-')\n",
    "ln4, = plt.plot([], [], '-')\n",
    "\n",
    "\n",
    "a_Merkur = 0.39\n",
    "b_Merkur = 2 * np.pi / 88.0\n",
    "\n",
    "a_Venus = 0.72\n",
    "b_Venus = 2 * np.pi / 224.7\n",
    "\n",
    "a_Mars = 1.52\n",
    "b_Mars = 2 * np.pi / 88.0\n",
    "\n",
    "a_Jup = 5.20\n",
    "b_Jup = 2 * np.pi / 4335.0\n",
    "\n",
    "\n",
    "\n",
    "def init():  \n",
    "    ax.set_xlim(-3, 3)  \n",
    "    ax.set_ylim(-3, 3)\n",
    "    ax.spines['left'].set_position('center')\n",
    "    ax.spines['bottom'].set_position('center')\n",
    "    ax.spines['right'].set_color('none')\n",
    "    ax.spines['top'].set_color('none')\n",
    "    return ln1, ln2, ln3, ln4  \n",
    "  \n",
    "def update(frame):\n",
    "    xdata1.append(f(frame,a_Merkur,b_Merkur))\n",
    "    ydata1.append(g(frame,a_Merkur,b_Merkur))\n",
    "    \n",
    "    xdata2.append(f(frame,a_Venus,b_Venus))\n",
    "    ydata2.append(g(frame,a_Venus,b_Venus))\n",
    "    \n",
    "    xdata3.append(f(frame,a_Mars,b_Mars))\n",
    "    ydata3.append(g(frame,a_Mars,b_Mars))\n",
    "    \n",
    "    xdata4.append(f(frame,a_Jup,b_Jup))\n",
    "    ydata4.append(g(frame,a_Jup,b_Jup))\n",
    "    ln1.set_data(xdata1, ydata1)\n",
    "    ln2.set_data(xdata2, ydata2)\n",
    "    ln3.set_data(xdata3, ydata3)\n",
    "    ln4.set_data(xdata4, ydata4)\n",
    "    \n",
    "    return ln1, ln2, ln3, ln4  \n",
    "  \n",
    "step = 2  # Schrittweite für y Werte\n",
    "frames = np.arange(0,730, step) # y Punkte\n",
    "  \n",
    "ani = FuncAnimation(fig, update, frames,init_func=init, interval=1)\n",
    "# interval ist die Aktualisierungsrate\n",
    "plt.show() \n",
    "\n"
   ]
  },
  {
   "cell_type": "markdown",
   "metadata": {},
   "source": [
    "\n",
    "<br>\n",
    "\n",
    "<div style=\"text-align: justify\"> Allgemeine Bemerkung: Auf Karten des Sternenhimmels werden die Bahnen von Planeten vor\n",
    "dem Hintergrund des Fixsternhimmels gezeigt. Dabei sind oft Schleifen in diesen Bahnen zu\n",
    "sehen, in denen die Planeten „rückläufig“ sind. Das ist genau dann der Fall, wenn die Planeten\n",
    "in die Schleifen bei unseren Diagrammen kommen.</div>"
   ]
  },
  {
   "cell_type": "code",
   "execution_count": null,
   "metadata": {},
   "outputs": [],
   "source": []
  }
 ],
 "metadata": {
  "interpreter": {
   "hash": "3ad1b53cbe706f80b97bd0a7614cd6c246c73c24b4e268489c041f23c148966f"
  },
  "kernelspec": {
   "display_name": "Python 3.9.7 ('ML_Baur')",
   "language": "python",
   "name": "python3"
  },
  "language_info": {
   "codemirror_mode": {
    "name": "ipython",
    "version": 3
   },
   "file_extension": ".py",
   "mimetype": "text/x-python",
   "name": "python",
   "nbconvert_exporter": "python",
   "pygments_lexer": "ipython3",
   "version": "3.9.7"
  }
 },
 "nbformat": 4,
 "nbformat_minor": 2
}
